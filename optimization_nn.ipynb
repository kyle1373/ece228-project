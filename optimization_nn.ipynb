{
 "cells": [
  {
   "cell_type": "code",
   "execution_count": 4,
   "metadata": {},
   "outputs": [],
   "source": [
    "import pandas as pd\n",
    "import numpy as np\n",
    "import torch\n",
    "import torch.nn as nn\n",
    "import torch.optim as optim\n",
    "from sklearn.preprocessing import StandardScaler\n",
    "from sklearn.model_selection import train_test_split\n",
    "\n",
    "files = [\"Dataset/Equities/AAPL.csv\", \"Dataset/Equities/META.csv\", \"Dataset/Equities/ORCL.csv\", \"Dataset/Equities/PEP.csv\"]\n",
    "dfs = [pd.read_csv(file) for file in files]\n",
    "\n",
    "for df in dfs:\n",
    "    df['Date'] = pd.to_datetime(df['Date'])\n",
    "    df.set_index('Date', inplace=True)\n",
    "\n",
    "combined_df = pd.concat(dfs, axis=0)\n",
    "combined_df.sort_index(inplace=True)"
   ]
  },
  {
   "cell_type": "code",
   "execution_count": 5,
   "metadata": {},
   "outputs": [],
   "source": [
    "def create_features(df):\n",
    "    df['Returns'] = df['Close'].pct_change()\n",
    "    df['Volatility'] = df['Returns'].rolling(window=10).std()\n",
    "    df['Momentum'] = df['Close'] / df['Close'].shift(10) - 1\n",
    "    df.dropna(inplace=True)\n",
    "    return df\n",
    "\n",
    "combined_df = create_features(combined_df)\n",
    "features = combined_df[['Returns', 'Volatility', 'Momentum']]\n",
    "labels = combined_df['Close']\n",
    "\n",
    "scaler = StandardScaler()\n",
    "features = scaler.fit_transform(features)\n",
    "\n",
    "X_train, X_test, y_train, y_test = train_test_split(features, labels, test_size=0.2, shuffle=False)\n",
    "\n",
    "X_train = torch.tensor(X_train, dtype=torch.float32)\n",
    "y_train = torch.tensor(y_train.values, dtype=torch.float32).view(-1, 1)\n",
    "X_test = torch.tensor(X_test, dtype=torch.float32)\n",
    "y_test = torch.tensor(y_test.values, dtype=torch.float32).view(-1, 1)"
   ]
  },
  {
   "cell_type": "code",
   "execution_count": 8,
   "metadata": {},
   "outputs": [
    {
     "name": "stdout",
     "output_type": "stream",
     "text": [
      "Epoch [10/100], Loss: 824235.2500\n",
      "Epoch [20/100], Loss: 816513.4375\n",
      "Epoch [30/100], Loss: 805360.8750\n",
      "Epoch [40/100], Loss: 789550.8750\n",
      "Epoch [50/100], Loss: 767698.3750\n",
      "Epoch [60/100], Loss: 738271.8125\n",
      "Epoch [70/100], Loss: 699577.7500\n",
      "Epoch [80/100], Loss: 649775.1250\n",
      "Epoch [90/100], Loss: 586889.7500\n",
      "Epoch [100/100], Loss: 508818.6562\n",
      "Test Loss: 283217.0000\n"
     ]
    }
   ],
   "source": [
    "class OptimizationLayer(nn.Module):\n",
    "    def __init__(self):\n",
    "        super(OptimizationLayer, self).__init__()\n",
    "\n",
    "    def forward(self, pred, target):\n",
    "        profit = torch.sum(pred - target)\n",
    "        return profit\n",
    "    \n",
    "class Net(nn.Module):\n",
    "    def __init__(self):\n",
    "        super(Net, self).__init__()\n",
    "        self.fc1 = nn.Linear(3, 128)\n",
    "        self.fc2 = nn.Linear(128, 64)\n",
    "        self.fc3 = nn.Linear(64, 1)\n",
    "        self.opt_layer = OptimizationLayer()\n",
    "        \n",
    "    def forward(self, x, target):\n",
    "        x = torch.relu(self.fc1(x))\n",
    "        x = torch.relu(self.fc2(x))\n",
    "        x = self.fc3(x)\n",
    "        profit = self.opt_layer(x, target)\n",
    "\n",
    "        return x, profit\n",
    "\n",
    "model = Net()\n",
    "\n",
    "def custom_loss_function(pred, target, profit):\n",
    "    loss = -profit\n",
    "    return loss\n",
    "\n",
    "optimizer = optim.Adam(model.parameters(), lr=0.001)\n",
    "\n",
    "num_epochs = 100\n",
    "for epoch in range(num_epochs):\n",
    "    model.train()\n",
    "    optimizer.zero_grad()\n",
    "    outputs, profit = model(X_train, y_train)\n",
    "    loss = custom_loss_function(outputs, y_train, profit)\n",
    "    loss.backward()\n",
    "    optimizer.step()\n",
    "    \n",
    "    if (epoch+1) % 10 == 0:\n",
    "        print(f'Epoch [{epoch+1}/{num_epochs}], Loss: {loss.item():.4f}')\n",
    "\n",
    "model.eval()\n",
    "with torch.no_grad():\n",
    "    test_outputs, test_profit = model(X_test, y_test)\n",
    "    test_loss = custom_loss_function(test_outputs, y_test, test_profit)\n",
    "    print(f'Test Loss: {test_loss.item():.4f}')"
   ]
  }
 ],
 "metadata": {
  "kernelspec": {
   "display_name": "Python 3",
   "language": "python",
   "name": "python3"
  },
  "language_info": {
   "codemirror_mode": {
    "name": "ipython",
    "version": 3
   },
   "file_extension": ".py",
   "mimetype": "text/x-python",
   "name": "python",
   "nbconvert_exporter": "python",
   "pygments_lexer": "ipython3",
   "version": "3.9.5"
  }
 },
 "nbformat": 4,
 "nbformat_minor": 2
}
